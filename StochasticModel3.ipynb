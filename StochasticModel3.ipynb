{
  "cells": [
    {
      "cell_type": "code",
      "execution_count": 1,
      "metadata": {
        "id": "5Ge-2Czf7KUZ"
      },
      "outputs": [],
      "source": [
        "import numpy as np\n",
        "from numpy.random import Generator, PCG64\n",
        "import matplotlib.pyplot as plt\n",
        "import statistics as stat\n",
        "import pandas as pd"
      ]
    },
    {
      "cell_type": "markdown",
      "metadata": {
        "id": "3r8zPHnKY8FG"
      },
      "source": [
        "##**Ornstein-Uhlenbeck noise**\n",
        "In the following work, we are going to model the parameter $\\rho$ of the model as an Ornstein_Uhlenbeck process:\n",
        "\n",
        "$d\\rho_t = \\theta(\\mu-\\rho_t))dt + \\alpha dW$.\n"
      ]
    },
    {
      "cell_type": "code",
      "execution_count": 2,
      "metadata": {
        "id": "aRIBPQze7Zm4"
      },
      "outputs": [],
      "source": [
        "class LorenzDynamics:\n",
        "  def __init__(self, sigma, beta, rho_0, dt, alpha, theta, mu):\n",
        "    self.sigma = sigma\n",
        "    self.beta = beta\n",
        "    self.rho = rho_0\n",
        "    self.alpha = alpha\n",
        "    self.dt = dt\n",
        "    self.theta = theta\n",
        "    self.mu = mu\n",
        "    self.noise_values = []\n",
        "    self.current_noise = 0\n",
        "\n",
        "  def ornstein_uhlenbeck_rho(self):\n",
        "    dW = np.sqrt(self.dt)*np.random.normal()\n",
        "    self.rho += self.theta * (self.mu - self.rho) * self.dt + self.alpha * dW\n",
        "    self.noise_values.append(self.rho)\n",
        "    return self.noise_values\n",
        "\n",
        "  def dynamics(self,state,t):\n",
        "    self.ornstein_uhlenbeck_rho()\n",
        "    x,y,z = state\n",
        "    dxdt = self.sigma*(y-x)\n",
        "    dydt = x*(self.rho-z)-y\n",
        "    dzdt = x*y-self.beta*z\n",
        "    return np.array([dxdt,dydt,dzdt])\n",
        "\n",
        "  def runge_kutta(self,state,t):\n",
        "    h = self.dt\n",
        "    k1 = self.dynamics(state,t)\n",
        "    k2 = self.dynamics(state+(h/2)*k1,t+h/2)\n",
        "    k3 = self.dynamics(state+(h/2)*k2,t+h/2)\n",
        "    k4 = self.dynamics(state+h*k3,t+h)\n",
        "    new_state = state + (h/6)*(k1+2*k2+2*k3+k4)\n",
        "    return new_state\n",
        "\n",
        "  def solve(self,IC,T):\n",
        "    t_values = np.arange(0,T,self.dt)\n",
        "    states = np.zeros((len(t_values),len(IC)))\n",
        "    states[0] = IC\n",
        "    for i in range(1,len(t_values)):\n",
        "      states[i] = self.runge_kutta(states[i-1],t_values[i-1])\n",
        "    return t_values,states\n",
        "\n",
        "  def get_noise_distribution(self):\n",
        "    return self.noise_values"
      ]
    },
    {
      "cell_type": "code",
      "execution_count": 35,
      "metadata": {
        "colab": {
          "base_uri": "https://localhost:8080/",
          "height": 72
        },
        "id": "ck2IznEs7eB2",
        "outputId": "e7e2063a-91c4-4e9d-cc00-279cf8bc3d7e"
      },
      "outputs": [
        {
          "output_type": "execute_result",
          "data": {
            "text/plain": [
              "'\\nresults = {}\\n\\nfor theta in theta_values:\\n  lorenz = LorenzDynamics(sigma,beta,rho_0,dt,alpha,theta,mu)\\n  t_values,states = lorenz.solve(IC,T)\\n  results[theta] = (t_values, states)\\n\\nfor mu in mu_values:\\n  lorenz = LorenzDynamics(sigma,beta,rho_0,dt,alpha,theta,mu)\\n  t_values,states = lorenz.solve(IC,T)\\n  results[mu] = (t_values, states)\\n\\nfor alpha in alpha_values:\\n  lorenz = LorenzDynamics(sigma,beta,rho_0,dt,alpha,theta,mu)\\n  t_values,states = lorenz.solve(IC,T)\\n  results[alpha] = (t_values, states)\\n  '"
            ],
            "application/vnd.google.colaboratory.intrinsic+json": {
              "type": "string"
            }
          },
          "metadata": {},
          "execution_count": 35
        }
      ],
      "source": [
        "T = 6000\n",
        "dt = 0.005\n",
        "IC = np.array([14,15,27])\n",
        "n_sim = 10\n",
        "\n",
        "sigma = 10.0\n",
        "beta = 8.0/3.0\n",
        "rho_0 = 26.0\n",
        "alpha = 1\n",
        "theta = 0.1\n",
        "mu = 28\n",
        "#mu_values = [26,28,30,32]\n",
        "#alpha_values = [0.1,1,2,5]\n",
        "#theta_values = [0.01,0.1,1,10]\n",
        "'''\n",
        "results = {}\n",
        "\n",
        "for theta in theta_values:\n",
        "  lorenz = LorenzDynamics(sigma,beta,rho_0,dt,alpha,theta,mu)\n",
        "  t_values,states = lorenz.solve(IC,T)\n",
        "  results[theta] = (t_values, states)\n",
        "\n",
        "for mu in mu_values:\n",
        "  lorenz = LorenzDynamics(sigma,beta,rho_0,dt,alpha,theta,mu)\n",
        "  t_values,states = lorenz.solve(IC,T)\n",
        "  results[mu] = (t_values, states)\n",
        "\n",
        "for alpha in alpha_values:\n",
        "  lorenz = LorenzDynamics(sigma,beta,rho_0,dt,alpha,theta,mu)\n",
        "  t_values,states = lorenz.solve(IC,T)\n",
        "  results[alpha] = (t_values, states)\n",
        "  '''"
      ]
    },
    {
      "cell_type": "code",
      "execution_count": 18,
      "metadata": {
        "id": "FX0imjVf7hpm"
      },
      "outputs": [],
      "source": [
        "'''\n",
        "def plot_trajectories(t_values, states, theta, save = False):\n",
        "  string = str(theta)\n",
        "  fig = plt.figure(figsize=(10, 7))\n",
        "  ax = fig.add_subplot(111, projection='3d')\n",
        "  ax.plot(states[:,0],states[:,1],states[:,2])\n",
        "  ax.set_xlabel('X')\n",
        "  ax.set_ylabel('Y')\n",
        "  ax.set_zlabel('Z')\n",
        "  ax.set_title(f'Lorenz dynamics trajectories (Theta={string})')\n",
        "  if save:\n",
        "    plt.savefig(f'trajectories_alpha_{string}.png')\n",
        "  plt.show()\n",
        "for theta, (t_values, states) in results.items():\n",
        "  plot_trajectories(t_values,states,theta)\n",
        "\n",
        "'''"
      ]
    },
    {
      "cell_type": "code",
      "source": [
        "def single_run(sigma,beta,rho_0,dt,alpha,theta,mu):\n",
        "  lorenz = LorenzDynamics(sigma,beta,rho_0,dt,alpha,theta,mu)\n",
        "  t_values,states = lorenz.solve(IC,T)\n",
        "  return states"
      ],
      "metadata": {
        "id": "cS8WP9xzGe2I"
      },
      "execution_count": 36,
      "outputs": []
    },
    {
      "cell_type": "code",
      "source": [
        "def generate_IC():\n",
        "  for i in range(n_sim):\n",
        "    x_0 = IC[0] + np.random.rand()\n",
        "    y_0 = IC[1] + np.random.rand()\n",
        "    z_0 = IC[0] + np.random.rand()\n",
        "  return np.array([x_0,y_0,z_0])"
      ],
      "metadata": {
        "id": "NwcfD_-bGlaT"
      },
      "execution_count": 37,
      "outputs": []
    },
    {
      "cell_type": "code",
      "source": [
        "all_states = []\n",
        "for i in range(n_sim):\n",
        "  IC = generate_IC()\n",
        "  states = single_run(sigma,beta,rho_0,dt,alpha,theta,mu)\n",
        "  all_states.append(states)\n",
        "\n",
        "all_states = np.concatenate(all_states, axis = 0)"
      ],
      "metadata": {
        "id": "KSX87pSYG1Tg"
      },
      "execution_count": 38,
      "outputs": []
    },
    {
      "cell_type": "code",
      "source": [
        "x_values = all_states[:,0]\n",
        "y_values = all_states[:,1]\n",
        "z_values = all_states[:,2]"
      ],
      "metadata": {
        "id": "XKnZfDKqGwX1"
      },
      "execution_count": 39,
      "outputs": []
    },
    {
      "cell_type": "code",
      "source": [
        "def statistics(states):\n",
        "  x = states[:,0]\n",
        "  y = states[:,1]\n",
        "  z = states[:,2]\n",
        "  return {\n",
        "      'x_mean' : np.mean(x),\n",
        "      'x_std' : np.std(x),\n",
        "      'y_mean' : np.mean(y),\n",
        "      'y_std' : np.std(y),\n",
        "      'z_mean' : np.mean(z),\n",
        "      'z_std' : np.std(z),\n",
        "  }"
      ],
      "metadata": {
        "id": "Er7G11fzchzw"
      },
      "execution_count": 40,
      "outputs": []
    },
    {
      "cell_type": "code",
      "source": [
        "'''\n",
        "x_means = []\n",
        "x_stds = []\n",
        "y_means = []\n",
        "y_stds = []\n",
        "z_means = []\n",
        "z_stds = []\n",
        "\n",
        "for theta, (t_values, states) in results.items():\n",
        "    stats = statistics(states)\n",
        "    x_means.append(stats['x_mean'])\n",
        "    x_stds.append(stats['x_std'])\n",
        "    y_means.append(stats['y_mean'])\n",
        "    y_stds.append(stats['y_std'])\n",
        "    z_means.append(stats['z_mean'])\n",
        "    z_stds.append(stats['z_std'])\n",
        "\n",
        "# Plot the statistics\n",
        "plt.figure(figsize=(12, 8))\n",
        "\n",
        "plt.subplot(3, 3, 1)\n",
        "plt.plot(theta_values, x_means)\n",
        "plt.xlabel('theta')\n",
        "plt.ylabel('Mean of X')\n",
        "\n",
        "plt.subplot(3, 3, 2)\n",
        "plt.plot(theta_values, x_stds)\n",
        "plt.xlabel('theta')\n",
        "plt.ylabel('Standard Deviation of X')\n",
        "\n",
        "plt.subplot(3, 3, 4)\n",
        "plt.plot(theta_values, y_means)\n",
        "plt.xlabel('theta')\n",
        "plt.ylabel('Mean of Y')\n",
        "\n",
        "plt.subplot(3, 3, 5)\n",
        "plt.plot(theta_values, y_stds)\n",
        "plt.xlabel('theta')\n",
        "plt.ylabel('Standard Deviation of Y')\n",
        "\n",
        "plt.subplot(3, 3, 7)\n",
        "plt.plot(theta_values, z_means)\n",
        "plt.xlabel('theta')\n",
        "plt.ylabel('Mean of Z')\n",
        "\n",
        "plt.subplot(3, 3, 8)\n",
        "plt.plot(theta_values, z_stds)\n",
        "plt.xlabel('theta')\n",
        "plt.ylabel('Standard Deviation of Z')\n",
        "\n",
        "plt.tight_layout()\n",
        "plt.show()\n",
        "'''"
      ],
      "metadata": {
        "colab": {
          "base_uri": "https://localhost:8080/",
          "height": 806
        },
        "collapsed": true,
        "id": "3z9qGR3BcmaJ",
        "outputId": "a4b7c3e1-d2eb-425c-9fc8-9f814488b3f5"
      },
      "execution_count": 24,
      "outputs": [
        {
          "output_type": "display_data",
          "data": {
            "text/plain": [
              "<Figure size 1200x800 with 6 Axes>"
            ],
            "image/png": "[encoded data removed]"
          },
          "metadata": {}
        }
      ]
    },
    {
      "cell_type": "markdown",
      "source": [
        "## **Bifurcation Diagram**"
      ],
      "metadata": {
        "id": "nHFalYohc875"
      }
    },
    {
      "cell_type": "code",
      "source": [
        "T = 6000\n",
        "dt = 0.005\n",
        "IC = np.array([14,15,27])\n",
        "\n",
        "sigma = 10.0\n",
        "beta = 8.0/3.0\n",
        "rho_0 = 26.0\n",
        "alpha = 0.1\n",
        "mu = 26.0\n",
        "theta = 0.1\n",
        "\n",
        "lorenz = LorenzDynamics(sigma,beta,rho_0,dt,alpha,theta,mu)\n",
        "t_values,states = lorenz.solve(IC,T)\n",
        "\n",
        "x_values = states[:,0]\n",
        "y_values = states[:,1]\n",
        "z_values = states[:,2]"
      ],
      "metadata": {
        "id": "6EAVsqd6dHoZ"
      },
      "execution_count": null,
      "outputs": []
    },
    {
      "cell_type": "code",
      "source": [
        "# Linear time-varying rho parameter\n",
        "rho_values = np.array([lorenz.rho(t) for t in t_values])\n",
        "plt.figure(figsize=(8, 5))\n",
        "plt.plot(t_values, rho_values)\n",
        "plt.xlabel('Time')\n",
        "plt.ylabel('Rho')\n",
        "plt.title('Linear parameters Evolution')\n",
        "plt.grid()\n",
        "plt.show()"
      ],
      "metadata": {
        "id": "OrO-LYlZc9R6"
      },
      "execution_count": null,
      "outputs": []
    },
    {
      "cell_type": "code",
      "source": [
        "plt.figure(figsize=(10, 6))\n",
        "plt.scatter(rho_values, z_values, s=0.1)\n",
        "plt.xlabel('Rho')\n",
        "plt.ylabel('Z')\n",
        "plt.title('Bifurcation Diagram (Z vs. Rho)')\n",
        "plt.grid(True)\n",
        "plt.show()"
      ],
      "metadata": {
        "id": "vXxoc3rldcvY"
      },
      "execution_count": null,
      "outputs": []
    },
    {
      "cell_type": "markdown",
      "metadata": {
        "id": "WLqLTShulOgl"
      },
      "source": [
        "## **Probability Density Functions**"
      ]
    },
    {
      "cell_type": "code",
      "execution_count": null,
      "metadata": {
        "id": "lNrBj6F573yU"
      },
      "outputs": [],
      "source": [
        "x_mean = stat.mean(x_values)\n",
        "x_std = stat.stdev(x_values)\n",
        "x_median = stat.median(x_values)\n",
        "\n",
        "y_mean = stat.mean(y_values)\n",
        "y_std = stat.stdev(y_values)\n",
        "y_median = stat.median(y_values)\n",
        "\n",
        "z_mean = stat.mean(z_values)\n",
        "z_std = stat.stdev(z_values)\n",
        "z_median = stat.median(z_values)\n"
      ]
    },
    {
      "cell_type": "code",
      "execution_count": 34,
      "metadata": {
        "colab": {
          "base_uri": "https://localhost:8080/",
          "height": 507
        },
        "id": "IS3tkmcN79w3",
        "outputId": "37b0340b-cf47-4f56-cf7f-e6ba84220293"
      },
      "outputs": [
        {
          "output_type": "display_data",
          "data": {
            "text/plain": [
              "<Figure size 1500x500 with 3 Axes>"
            ],
            "image/png": "[encoded data removed]"
          },
          "metadata": {}
        }
      ],
      "source": [
        "fig, axs = plt.subplots(1, 3, figsize=(15, 5))\n",
        "\n",
        "axs[0].hist(x_values, bins=100, density=True, color='blue', alpha=0.6)\n",
        "axs[0].axvline(x_mean, color='red', linestyle='dashed', linewidth=2, label='Mean')\n",
        "axs[0].axvline(x_median, color='green', linestyle='dashed', linewidth=2, label='Median')\n",
        "axs[0].set_title('PDF of X')\n",
        "axs[0].set_xlabel('x')\n",
        "axs[0].set_ylabel('Probability')\n",
        "\n",
        "axs[1].hist(y_values, bins=100, density=True, color='green', alpha=0.6)\n",
        "axs[1].axvline(y_mean, color='red', linestyle='dashed', linewidth=2, label='Mean')\n",
        "axs[1].axvline(y_median, color='green', linestyle='dashed', linewidth=2, label='Median')\n",
        "axs[1].set_title('PDF of Y')\n",
        "axs[1].set_xlabel('y')\n",
        "axs[1].set_ylabel('Probability')\n",
        "\n",
        "axs[2].hist(z_values, bins=100, density=True, color='red', alpha=0.6)\n",
        "axs[2].axvline(z_mean, color='red', linestyle='dashed', linewidth=2, label='Mean')\n",
        "axs[2].axvline(z_median, color='green', linestyle='dashed', linewidth=2, label='Median')\n",
        "axs[2].set_title('PDF of Z')\n",
        "axs[2].set_xlabel('z')\n",
        "axs[2].set_ylabel('Probability')\n",
        "\n",
        "plt.tight_layout()\n",
        "plt.show()"
      ]
    },
    {
      "cell_type": "markdown",
      "source": [
        "## **Markov Chain and Macrostate statistics**"
      ],
      "metadata": {
        "id": "aASNq1RGd0Hk"
      }
    },
    {
      "cell_type": "code",
      "execution_count": null,
      "metadata": {
        "id": "6XLidoUu7-2C"
      },
      "outputs": [],
      "source": [
        "z_quantiles = [22.5,37.9] #75th, 95th quantiles\n",
        "partitions = []\n",
        "\n",
        "def assign_region(x,y,z):\n",
        "  if z < z_quantiles[0]:\n",
        "    z_index = 0\n",
        "  elif z < z_quantiles[1]:\n",
        "    z_index = 1\n",
        "  else:\n",
        "    z_index = 2\n",
        "\n",
        "  if x > 0 and y > 0:\n",
        "    xy_index = 0\n",
        "  elif x > 0 and y < 0:\n",
        "    xy_index = 1\n",
        "  elif x < 0 and y > 0:\n",
        "    xy_index = 2\n",
        "  elif x < 0 and y < 0:\n",
        "    xy_index = 3\n",
        "\n",
        "  return z_index*3 + xy_index\n",
        "\n",
        "for x,y,z in zip(x_values,y_values,z_values):\n",
        "  partitions.append(assign_region(x,y,z))"
      ]
    },
    {
      "cell_type": "code",
      "execution_count": null,
      "metadata": {
        "id": "_-POQKJY8FvO"
      },
      "outputs": [],
      "source": [
        "n_partitions = 12\n",
        "T_mat = np.zeros((n_partitions,n_partitions))\n",
        "holding_times = np.zeros(n_partitions)\n",
        "state_counts = np.zeros(n_partitions)\n",
        "\n",
        "current_state = partitions[0]\n",
        "time_in_state = 0.0\n",
        "for i in range(1,len(partitions)):\n",
        "  next_state = partitions[i]\n",
        "  time_in_state += dt\n",
        "  if next_state != current_state:\n",
        "    T_mat[current_state,next_state] += 1\n",
        "    holding_times[current_state] += time_in_state\n",
        "    state_counts[current_state] += 1\n",
        "    current_state = next_state\n",
        "    time_in_state = 0.0\n",
        "\n",
        "for i in range(n_partitions):\n",
        "  if state_counts[i] > 0:\n",
        "    holding_times[i] /= state_counts[i]\n",
        "  else:\n",
        "    holding_times[i] /= 1 #holding_times = 1\n",
        "\n",
        "for j in range(n_partitions):\n",
        "  col_sums = np.sum(T_mat[:,j])\n",
        "  for i in range(n_partitions):\n",
        "    if col_sums > 0:\n",
        "      T_mat[i,j] = T_mat[i,j]/col_sums\n",
        "  T_mat[j,j] = -np.sum(T_mat[:,j])\n",
        "\n",
        "HT = np.diag(holding_times)\n",
        "Q = np.dot(T_mat,HT)"
      ]
    },
    {
      "cell_type": "code",
      "execution_count": null,
      "metadata": {
        "colab": {
          "base_uri": "https://localhost:8080/",
          "height": 564
        },
        "id": "IZLj48hh8G7f",
        "outputId": "f46df710-bd90-4678-9be5-e94746d9c701",
        "collapsed": true
      },
      "outputs": [
        {
          "data": {
            "image/png": "[encoded data removed]",
            "text/plain": [
              "<Figure size 800x600 with 2 Axes>"
            ]
          },
          "metadata": {},
          "output_type": "display_data"
        }
      ],
      "source": [
        "plt.figure(figsize=(8, 6))\n",
        "plt.imshow(Q, cmap='viridis', interpolation='nearest')\n",
        "plt.colorbar()\n",
        "plt.title('Matrice Generatrice Q')\n",
        "plt.xlabel('Stato j')\n",
        "plt.ylabel('Stato i')\n",
        "plt.show()"
      ]
    },
    {
      "cell_type": "code",
      "execution_count": null,
      "metadata": {
        "id": "XCAsvC0j8Mhi"
      },
      "outputs": [],
      "source": [
        "macrostates = []\n",
        "#macrostates = [0,1,1,0,2]\n",
        "\n",
        "def assign_macrostate(z):\n",
        "  if z < z_quantiles[0]:\n",
        "    return 0\n",
        "  elif z < z_quantiles[1]:\n",
        "    return 1\n",
        "  else:\n",
        "    return 2\n",
        "\n",
        "for z in z_values:\n",
        "  macrostates.append(assign_macrostate(z))\n",
        "\n",
        "n_macrostates = 3\n",
        "transition_matrix = np.zeros((n_macrostates,n_macrostates))\n",
        "holding_times_macro = np.zeros(n_macrostates)\n",
        "state_counts_macro = np.zeros(n_macrostates)\n",
        "\n",
        "current_state_macro = macrostates[0]\n",
        "time_in_state_macro = 0.0\n",
        "\n",
        "for i in range(1, len(macrostates)):\n",
        "  next_state_macro = macrostates[i]\n",
        "  time_in_state_macro += dt\n",
        "  if next_state_macro != current_state_macro:\n",
        "    transition_matrix[current_state_macro, next_state_macro] += 1\n",
        "    holding_times_macro[current_state_macro] += time_in_state_macro\n",
        "    state_counts_macro[current_state_macro] += 1\n",
        "    current_state_macro = next_state_macro\n",
        "    time_in_state_macro = 0.0\n",
        "\n",
        "for i in range(n_macrostates):\n",
        "  if state_counts_macro[i] > 0:\n",
        "    holding_times_macro[i] /= state_counts_macro[i]\n",
        "  else:\n",
        "    holding_times_macro[i] /= 1"
      ]
    },
    {
      "cell_type": "code",
      "execution_count": null,
      "metadata": {
        "colab": {
          "base_uri": "https://localhost:8080/",
          "height": 143
        },
        "id": "8ldByzoW8N4C",
        "outputId": "a35c2b91-09ee-457f-b324-17231a17eb27"
      },
      "outputs": [
        {
          "data": {
            "application/vnd.google.colaboratory.intrinsic+json": {
              "summary": "{\n  \"name\": \"macrostates_table\",\n  \"rows\": 3,\n  \"fields\": [\n    {\n      \"column\": \"Mean holding time\",\n      \"properties\": {\n        \"dtype\": \"number\",\n        \"std\": 0.12919169402269098,\n        \"min\": 0.09732423819956051,\n        \"max\": 0.35550311203319357,\n        \"num_unique_values\": 3,\n        \"samples\": [\n          0.35550311203319357,\n          0.21751236943374982,\n          0.09732423819956051\n        ],\n        \"semantic_type\": \"\",\n        \"description\": \"\"\n      }\n    }\n  ]\n}",
              "type": "dataframe",
              "variable_name": "macrostates_table"
            },
            "text/html": [
              "\n",
              "  <div id=\"df-67508403-3aed-402e-95d3-874a27d8e079\" class=\"colab-df-container\">\n",
              "    <div>\n",
              "<style scoped>\n",
              "    .dataframe tbody tr th:only-of-type {\n",
              "        vertical-align: middle;\n",
              "    }\n",
              "\n",
              "    .dataframe tbody tr th {\n",
              "        vertical-align: top;\n",
              "    }\n",
              "\n",
              "    .dataframe thead th {\n",
              "        text-align: right;\n",
              "    }\n",
              "</style>\n",
              "<table border=\"1\" class=\"dataframe\">\n",
              "  <thead>\n",
              "    <tr style=\"text-align: right;\">\n",
              "      <th></th>\n",
              "      <th>Mean holding time</th>\n",
              "    </tr>\n",
              "  </thead>\n",
              "  <tbody>\n",
              "    <tr>\n",
              "      <th>Macrostate A</th>\n",
              "      <td>0.355503</td>\n",
              "    </tr>\n",
              "    <tr>\n",
              "      <th>Macrostato B</th>\n",
              "      <td>0.217512</td>\n",
              "    </tr>\n",
              "    <tr>\n",
              "      <th>Macrostato C</th>\n",
              "      <td>0.097324</td>\n",
              "    </tr>\n",
              "  </tbody>\n",
              "</table>\n",
              "</div>\n",
              "    <div class=\"colab-df-buttons\">\n",
              "\n",
              "  <div class=\"colab-df-container\">\n",
              "    <button class=\"colab-df-convert\" onclick=\"convertToInteractive('df-67508403-3aed-402e-95d3-874a27d8e079')\"\n",
              "            title=\"Convert this dataframe to an interactive table.\"\n",
              "            style=\"display:none;\">\n",
              "\n",
              "  <svg xmlns=\"http://www.w3.org/2000/svg\" height=\"24px\" viewBox=\"0 -960 960 960\">\n",
              "    <path d=\"M120-120v-720h720v720H120Zm60-500h600v-160H180v160Zm220 220h160v-160H400v160Zm0 220h160v-160H400v160ZM180-400h160v-160H180v160Zm440 0h160v-160H620v160ZM180-180h160v-160H180v160Zm440 0h160v-160H620v160Z\"/>\n",
              "  </svg>\n",
              "    </button>\n",
              "\n",
              "  <style>\n",
              "    .colab-df-container {\n",
              "      display:flex;\n",
              "      gap: 12px;\n",
              "    }\n",
              "\n",
              "    .colab-df-convert {\n",
              "      background-color: #E8F0FE;\n",
              "      border: none;\n",
              "      border-radius: 50%;\n",
              "      cursor: pointer;\n",
              "      display: none;\n",
              "      fill: #1967D2;\n",
              "      height: 32px;\n",
              "      padding: 0 0 0 0;\n",
              "      width: 32px;\n",
              "    }\n",
              "\n",
              "    .colab-df-convert:hover {\n",
              "      background-color: #E2EBFA;\n",
              "      box-shadow: 0px 1px 2px rgba(60, 64, 67, 0.3), 0px 1px 3px 1px rgba(60, 64, 67, 0.15);\n",
              "      fill: #174EA6;\n",
              "    }\n",
              "\n",
              "    .colab-df-buttons div {\n",
              "      margin-bottom: 4px;\n",
              "    }\n",
              "\n",
              "    [theme=dark] .colab-df-convert {\n",
              "      background-color: #3B4455;\n",
              "      fill: #D2E3FC;\n",
              "    }\n",
              "\n",
              "    [theme=dark] .colab-df-convert:hover {\n",
              "      background-color: #434B5C;\n",
              "      box-shadow: 0px 1px 3px 1px rgba(0, 0, 0, 0.15);\n",
              "      filter: drop-shadow(0px 1px 2px rgba(0, 0, 0, 0.3));\n",
              "      fill: #FFFFFF;\n",
              "    }\n",
              "  </style>\n",
              "\n",
              "    <script>\n",
              "      const buttonEl =\n",
              "        document.querySelector('#df-67508403-3aed-402e-95d3-874a27d8e079 button.colab-df-convert');\n",
              "      buttonEl.style.display =\n",
              "        google.colab.kernel.accessAllowed ? 'block' : 'none';\n",
              "\n",
              "      async function convertToInteractive(key) {\n",
              "        const element = document.querySelector('#df-67508403-3aed-402e-95d3-874a27d8e079');\n",
              "        const dataTable =\n",
              "          await google.colab.kernel.invokeFunction('convertToInteractive',\n",
              "                                                    [key], {});\n",
              "        if (!dataTable) return;\n",
              "\n",
              "        const docLinkHtml = 'Like what you see? Visit the ' +\n",
              "          '<a target=\"_blank\" href=https://colab.research.google.com/notebooks/data_table.ipynb>data table notebook</a>'\n",
              "          + ' to learn more about interactive tables.';\n",
              "        element.innerHTML = '';\n",
              "        dataTable['output_type'] = 'display_data';\n",
              "        await google.colab.output.renderOutput(dataTable, element);\n",
              "        const docLink = document.createElement('div');\n",
              "        docLink.innerHTML = docLinkHtml;\n",
              "        element.appendChild(docLink);\n",
              "      }\n",
              "    </script>\n",
              "  </div>\n",
              "\n",
              "\n",
              "<div id=\"df-2f042fb4-30e8-4d01-bed5-2f812625189b\">\n",
              "  <button class=\"colab-df-quickchart\" onclick=\"quickchart('df-2f042fb4-30e8-4d01-bed5-2f812625189b')\"\n",
              "            title=\"Suggest charts\"\n",
              "            style=\"display:none;\">\n",
              "\n",
              "<svg xmlns=\"http://www.w3.org/2000/svg\" height=\"24px\"viewBox=\"0 0 24 24\"\n",
              "     width=\"24px\">\n",
              "    <g>\n",
              "        <path d=\"M19 3H5c-1.1 0-2 .9-2 2v14c0 1.1.9 2 2 2h14c1.1 0 2-.9 2-2V5c0-1.1-.9-2-2-2zM9 17H7v-7h2v7zm4 0h-2V7h2v10zm4 0h-2v-4h2v4z\"/>\n",
              "    </g>\n",
              "</svg>\n",
              "  </button>\n",
              "\n",
              "<style>\n",
              "  .colab-df-quickchart {\n",
              "      --bg-color: #E8F0FE;\n",
              "      --fill-color: #1967D2;\n",
              "      --hover-bg-color: #E2EBFA;\n",
              "      --hover-fill-color: #174EA6;\n",
              "      --disabled-fill-color: #AAA;\n",
              "      --disabled-bg-color: #DDD;\n",
              "  }\n",
              "\n",
              "  [theme=dark] .colab-df-quickchart {\n",
              "      --bg-color: #3B4455;\n",
              "      --fill-color: #D2E3FC;\n",
              "      --hover-bg-color: #434B5C;\n",
              "      --hover-fill-color: #FFFFFF;\n",
              "      --disabled-bg-color: #3B4455;\n",
              "      --disabled-fill-color: #666;\n",
              "  }\n",
              "\n",
              "  .colab-df-quickchart {\n",
              "    background-color: var(--bg-color);\n",
              "    border: none;\n",
              "    border-radius: 50%;\n",
              "    cursor: pointer;\n",
              "    display: none;\n",
              "    fill: var(--fill-color);\n",
              "    height: 32px;\n",
              "    padding: 0;\n",
              "    width: 32px;\n",
              "  }\n",
              "\n",
              "  .colab-df-quickchart:hover {\n",
              "    background-color: var(--hover-bg-color);\n",
              "    box-shadow: 0 1px 2px rgba(60, 64, 67, 0.3), 0 1px 3px 1px rgba(60, 64, 67, 0.15);\n",
              "    fill: var(--button-hover-fill-color);\n",
              "  }\n",
              "\n",
              "  .colab-df-quickchart-complete:disabled,\n",
              "  .colab-df-quickchart-complete:disabled:hover {\n",
              "    background-color: var(--disabled-bg-color);\n",
              "    fill: var(--disabled-fill-color);\n",
              "    box-shadow: none;\n",
              "  }\n",
              "\n",
              "  .colab-df-spinner {\n",
              "    border: 2px solid var(--fill-color);\n",
              "    border-color: transparent;\n",
              "    border-bottom-color: var(--fill-color);\n",
              "    animation:\n",
              "      spin 1s steps(1) infinite;\n",
              "  }\n",
              "\n",
              "  @keyframes spin {\n",
              "    0% {\n",
              "      border-color: transparent;\n",
              "      border-bottom-color: var(--fill-color);\n",
              "      border-left-color: var(--fill-color);\n",
              "    }\n",
              "    20% {\n",
              "      border-color: transparent;\n",
              "      border-left-color: var(--fill-color);\n",
              "      border-top-color: var(--fill-color);\n",
              "    }\n",
              "    30% {\n",
              "      border-color: transparent;\n",
              "      border-left-color: var(--fill-color);\n",
              "      border-top-color: var(--fill-color);\n",
              "      border-right-color: var(--fill-color);\n",
              "    }\n",
              "    40% {\n",
              "      border-color: transparent;\n",
              "      border-right-color: var(--fill-color);\n",
              "      border-top-color: var(--fill-color);\n",
              "    }\n",
              "    60% {\n",
              "      border-color: transparent;\n",
              "      border-right-color: var(--fill-color);\n",
              "    }\n",
              "    80% {\n",
              "      border-color: transparent;\n",
              "      border-right-color: var(--fill-color);\n",
              "      border-bottom-color: var(--fill-color);\n",
              "    }\n",
              "    90% {\n",
              "      border-color: transparent;\n",
              "      border-bottom-color: var(--fill-color);\n",
              "    }\n",
              "  }\n",
              "</style>\n",
              "\n",
              "  <script>\n",
              "    async function quickchart(key) {\n",
              "      const quickchartButtonEl =\n",
              "        document.querySelector('#' + key + ' button');\n",
              "      quickchartButtonEl.disabled = true;  // To prevent multiple clicks.\n",
              "      quickchartButtonEl.classList.add('colab-df-spinner');\n",
              "      try {\n",
              "        const charts = await google.colab.kernel.invokeFunction(\n",
              "            'suggestCharts', [key], {});\n",
              "      } catch (error) {\n",
              "        console.error('Error during call to suggestCharts:', error);\n",
              "      }\n",
              "      quickchartButtonEl.classList.remove('colab-df-spinner');\n",
              "      quickchartButtonEl.classList.add('colab-df-quickchart-complete');\n",
              "    }\n",
              "    (() => {\n",
              "      let quickchartButtonEl =\n",
              "        document.querySelector('#df-2f042fb4-30e8-4d01-bed5-2f812625189b button');\n",
              "      quickchartButtonEl.style.display =\n",
              "        google.colab.kernel.accessAllowed ? 'block' : 'none';\n",
              "    })();\n",
              "  </script>\n",
              "</div>\n",
              "\n",
              "  <div id=\"id_b6e07954-57c7-4e84-a785-48ddfab0f7ec\">\n",
              "    <style>\n",
              "      .colab-df-generate {\n",
              "        background-color: #E8F0FE;\n",
              "        border: none;\n",
              "        border-radius: 50%;\n",
              "        cursor: pointer;\n",
              "        display: none;\n",
              "        fill: #1967D2;\n",
              "        height: 32px;\n",
              "        padding: 0 0 0 0;\n",
              "        width: 32px;\n",
              "      }\n",
              "\n",
              "      .colab-df-generate:hover {\n",
              "        background-color: #E2EBFA;\n",
              "        box-shadow: 0px 1px 2px rgba(60, 64, 67, 0.3), 0px 1px 3px 1px rgba(60, 64, 67, 0.15);\n",
              "        fill: #174EA6;\n",
              "      }\n",
              "\n",
              "      [theme=dark] .colab-df-generate {\n",
              "        background-color: #3B4455;\n",
              "        fill: #D2E3FC;\n",
              "      }\n",
              "\n",
              "      [theme=dark] .colab-df-generate:hover {\n",
              "        background-color: #434B5C;\n",
              "        box-shadow: 0px 1px 3px 1px rgba(0, 0, 0, 0.15);\n",
              "        filter: drop-shadow(0px 1px 2px rgba(0, 0, 0, 0.3));\n",
              "        fill: #FFFFFF;\n",
              "      }\n",
              "    </style>\n",
              "    <button class=\"colab-df-generate\" onclick=\"generateWithVariable('macrostates_table')\"\n",
              "            title=\"Generate code using this dataframe.\"\n",
              "            style=\"display:none;\">\n",
              "\n",
              "  <svg xmlns=\"http://www.w3.org/2000/svg\" height=\"24px\"viewBox=\"0 0 24 24\"\n",
              "       width=\"24px\">\n",
              "    <path d=\"M7,19H8.4L18.45,9,17,7.55,7,17.6ZM5,21V16.75L18.45,3.32a2,2,0,0,1,2.83,0l1.4,1.43a1.91,1.91,0,0,1,.58,1.4,1.91,1.91,0,0,1-.58,1.4L9.25,21ZM18.45,9,17,7.55Zm-12,3A5.31,5.31,0,0,0,4.9,8.1,5.31,5.31,0,0,0,1,6.5,5.31,5.31,0,0,0,4.9,4.9,5.31,5.31,0,0,0,6.5,1,5.31,5.31,0,0,0,8.1,4.9,5.31,5.31,0,0,0,12,6.5,5.46,5.46,0,0,0,6.5,12Z\"/>\n",
              "  </svg>\n",
              "    </button>\n",
              "    <script>\n",
              "      (() => {\n",
              "      const buttonEl =\n",
              "        document.querySelector('#id_b6e07954-57c7-4e84-a785-48ddfab0f7ec button.colab-df-generate');\n",
              "      buttonEl.style.display =\n",
              "        google.colab.kernel.accessAllowed ? 'block' : 'none';\n",
              "\n",
              "      buttonEl.onclick = () => {\n",
              "        google.colab.notebook.generateWithVariable('macrostates_table');\n",
              "      }\n",
              "      })();\n",
              "    </script>\n",
              "  </div>\n",
              "\n",
              "    </div>\n",
              "  </div>\n"
            ],
            "text/plain": [
              "              Mean holding time\n",
              "Macrostate A           0.355503\n",
              "Macrostato B           0.217512\n",
              "Macrostato C           0.097324"
            ]
          },
          "execution_count": 25,
          "metadata": {},
          "output_type": "execute_result"
        }
      ],
      "source": [
        "macrostates_table = pd.DataFrame({'Mean holding time': holding_times_macro})\n",
        "macrostates_table.index = ['Macrostate A', 'Macrostato B', 'Macrostato C']\n",
        "macrostates_table"
      ]
    }
  ],
  "metadata": {
    "colab": {
      "provenance": []
    },
    "kernelspec": {
      "display_name": "Python 3",
      "name": "python3"
    },
    "language_info": {
      "name": "python"
    }
  },
  "nbformat": 4,
  "nbformat_minor": 0
}